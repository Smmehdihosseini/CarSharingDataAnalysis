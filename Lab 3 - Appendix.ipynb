{
 "cells": [
  {
   "attachments": {},
   "cell_type": "markdown",
   "id": "3b7d1c16",
   "metadata": {},
   "source": [
    "# Lab 3 - Appendix - Source Code"
   ]
  },
  {
   "cell_type": "markdown",
   "id": "a5eccbbb",
   "metadata": {},
   "source": [
    "## Import Packages"
   ]
  },
  {
   "cell_type": "code",
   "execution_count": null,
   "id": "c53d0dbe",
   "metadata": {},
   "outputs": [],
   "source": [
    "# Import packages \n",
    "\n",
    "import pymongo as pm\n",
    "import pandas as pd\n",
    "import numpy as np\n",
    "import seaborn as sns\n",
    "import geojson\n",
    "import matplotlib.pylab as plt\n",
    "from pprint import pprint\n",
    "import os\n",
    "\n",
    "pd.options.mode.chained_assignment = None"
   ]
  },
  {
   "cell_type": "markdown",
   "id": "91b6e924",
   "metadata": {},
   "source": [
    "## Connect to Database"
   ]
  },
  {
   "cell_type": "code",
   "execution_count": null,
   "id": "9cdc4c5e",
   "metadata": {},
   "outputs": [],
   "source": [
    "# Connecting to Database Using Credentials\n",
    "\n",
    "db_add = \"<Your DB Address>\"\n",
    "auth_source = \"<Auth Source>\"\n",
    "username = \"<Your Username>\"\n",
    "password = \"<Your Password>\"\n",
    "\n",
    "\n",
    "client = pm.MongoClient(db_add,\n",
    "        ssl=True,\n",
    "        authSource = auth_source,\n",
    "        tlsAllowInvalidCertificates=True,\n",
    "        username=username,\n",
    "        password=password)\n",
    "\n",
    "db = client['carsharing']\n",
    "\n",
    "# Read IMQ Data\n",
    "sp_to = pd.read_csv('IMQData/spostamentiTorino.csv')"
   ]
  },
  {
   "cell_type": "markdown",
   "id": "061320ee",
   "metadata": {},
   "source": [
    "## Load Resources"
   ]
  },
  {
   "cell_type": "code",
   "execution_count": null,
   "id": "bd81960a",
   "metadata": {},
   "outputs": [],
   "source": [
    "zones = {\n",
    "    0:'CENTRO',\n",
    "    1:'S.SALVARIO',\n",
    "    2:'CROCETTA',\n",
    "    3:'S.PAOLO',\n",
    "    4:'CENISIA',\n",
    "    5:'S.DONATO',\n",
    "    6:'AURORA',\n",
    "    7:'VANCHIGLIA',\n",
    "    8:'NIZZA-MILLEFONTI',\n",
    "    9:'LINGOTTO',\n",
    "    10:'S.RITA',\n",
    "    11:'MIRAFIORI NORD',\n",
    "    12:'POZZO STRADA',\n",
    "    13:'PARELLA',\n",
    "    14:'VALLETTE',\n",
    "    15:'MADONNA CAMPAGNA',\n",
    "    16:'B.TA VITTORIA',\n",
    "    17:'B.RA MILANO',\n",
    "    18:'FALCHERA',\n",
    "    19:'REGIO PARCO',\n",
    "    20:'MADONNA PILONE',\n",
    "    21:'CAVORETTO',\n",
    "    22:'MIRAFIORI SUD'\n",
    "        }\n",
    "\n",
    "with open('Zone/TorinoZonescol.geojson') as f:\n",
    "    zones_data = geojson.load(f)"
   ]
  },
  {
   "cell_type": "code",
   "execution_count": null,
   "id": "0980437d",
   "metadata": {},
   "outputs": [],
   "source": [
    "c2g_perm = db['ictts_PermanentBookings']\n",
    "enj_perm = db['ictts_enjoy_PermanentBookings']"
   ]
  },
  {
   "cell_type": "markdown",
   "id": "d482eb48",
   "metadata": {},
   "source": [
    "## Define Function and Pipeline"
   ]
  },
  {
   "cell_type": "code",
   "execution_count": null,
   "id": "2eb8d6c1",
   "metadata": {},
   "outputs": [],
   "source": [
    "def get_OD_data(orig_zone, dest_zone, startHour, endHour, startDay, endDay):\n",
    "    pipeline = [\n",
    "            { \"$project\": {\n",
    "                \"hour\": { \"$hour\": \"$init_date\" },\n",
    "                \"day\": { \"$dayOfWeek\": \"$init_date\" },\n",
    "                \"init_loc\":1, \"final_loc\":1, \"init_time\":1\n",
    "                }\n",
    "            },\n",
    "            { \"$match\": {\n",
    "                \"day\": { \"$gte\": startDay, \"$lt\": endDay }, \n",
    "                \"hour\": { \"$gte\": startHour, \"$lte\": endHour },\n",
    "                \"init_loc\": { \"$geoWithin\" :\n",
    "                    { \"$geometry\": { \"type\": \"MultiPolygon\", \"coordinates\": orig_zone } }\n",
    "                    },\n",
    "                \"final_loc\": { \"$geoWithin\" :\n",
    "                    { \"$geometry\": { \"type\": \"MultiPolygon\", \"coordinates\": dest_zone } }\n",
    "                    }\n",
    "                }\n",
    "            },\n",
    "            { \"$count\": \"tot\"}\n",
    "            ]\n",
    "    return pipeline\n",
    "\n",
    "def normalize(arr):\n",
    "    min_val = np.min(arr)\n",
    "    max_val = np.max(arr)\n",
    "    return (arr - min_val)/(max_val-min_val)"
   ]
  },
  {
   "cell_type": "markdown",
   "id": "5f9be1fc",
   "metadata": {},
   "source": [
    "### Zone Data"
   ]
  },
  {
   "cell_type": "code",
   "execution_count": null,
   "id": "c5ac6bd3",
   "metadata": {},
   "outputs": [],
   "source": [
    "OD_carsharing = [np.zeros([len(zones), len(zones)]),\n",
    "      np.zeros([len(zones), len(zones)]),\n",
    "      np.zeros([len(zones), len(zones)]),\n",
    "      np.zeros([len(zones), len(zones)]),\n",
    "      np.zeros([len(zones), len(zones)]),\n",
    "      np.zeros([len(zones), len(zones)])]\n",
    "\n",
    "startDay = 2\n",
    "endDay = 7\n",
    "\n",
    "cases = [(0, 4), (5, 8), (9, 13), (14, 18), (19, 23)]\n",
    "\n",
    "for case in range(len(cases)):\n",
    "    print(cases[case])\n",
    "    startHour, endHour = cases[case]\n",
    "    for orig in range(23):\n",
    "        for dest in range(23):\n",
    "            print(f'Instance {orig}-{dest}')\n",
    "\n",
    "            tot = 0\n",
    "\n",
    "            orig_zone = zones_data['features'][orig][\"geometry\"][\"coordinates\"]\n",
    "            dest_zone = zones_data['features'][dest][\"geometry\"][\"coordinates\"]\n",
    "\n",
    "            pipeline = get_OD_data(orig_zone, dest_zone, startHour, endHour, startDay, endDay)\n",
    "            result_c2g = list(c2g_perm.aggregate(pipeline))\n",
    "            result_enj = list(enj_perm.aggregate(pipeline))\n",
    "\n",
    "            if (len(result_c2g)>0):\n",
    "                tot += result_c2g[0][\"tot\"]\n",
    "\n",
    "            if (len(result_enj)>0):\n",
    "                tot += result_enj[0][\"tot\"]\n",
    "\n",
    "            OD_carsharing[case][orig-1,dest-1] = tot"
   ]
  },
  {
   "cell_type": "code",
   "execution_count": null,
   "id": "a9835cca",
   "metadata": {},
   "outputs": [],
   "source": [
    "for case in range(len(cases)): \n",
    "    np.savetxt(f'Results/{case}_Hour_{cases[case][0]}_{cases[case][1]}.txt', OD_carsharing[case], fmt='%d')"
   ]
  },
  {
   "cell_type": "code",
   "execution_count": null,
   "id": "b66ab3cb",
   "metadata": {},
   "outputs": [],
   "source": [
    "plt.figure(figsize=(18,14))\n",
    "ax = sns.heatmap(OD_carsharing[3], linewidth=0.5, annot=True, fmt='g', annot_kws={\"size\": 14}, cmap='Greens')\n",
    "plt.xlim([0,23])\n",
    "plt.xticks(np.arange(0.5, 23.5, 1), labels=list(zones.values()), rotation=90, ha='center')\n",
    "plt.yticks(np.arange(0.5, 23.5, 1), labels=list(zones.values()), rotation=0)\n",
    "ax.xaxis.set_ticks_position('top')\n",
    "plt.title(title, size=20, y=1.30)\n",
    "plt.ylabel('Origin')\n",
    "plt.tight_layout()\n",
    "plt.show()"
   ]
  },
  {
   "cell_type": "markdown",
   "id": "e5544570",
   "metadata": {},
   "source": [
    "# Get Overview"
   ]
  },
  {
   "cell_type": "markdown",
   "id": "6ae4525c",
   "metadata": {},
   "source": [
    "## Car-Sharing"
   ]
  },
  {
   "cell_type": "code",
   "execution_count": null,
   "id": "e9ffb7a4",
   "metadata": {},
   "outputs": [],
   "source": [
    "OD_C = np.zeros([len(zones), len(zones)])\n",
    "\n",
    "startDay = 2\n",
    "endDay = 7\n",
    "startHour = 0\n",
    "endHour = 23\n",
    "\n",
    "for orig in range(23):\n",
    "    for dest in range(23):\n",
    "        print(f'Instance {orig}-{dest}')\n",
    "\n",
    "        tot = 0\n",
    "\n",
    "        orig_zone = zones_data['features'][orig][\"geometry\"][\"coordinates\"]\n",
    "        dest_zone = zones_data['features'][dest][\"geometry\"][\"coordinates\"]\n",
    "\n",
    "        pipeline = get_OD_data(orig_zone, dest_zone, startHour, endHour, startDay, endDay)\n",
    "        result_c2g = list(c2g_perm.aggregate(pipeline))\n",
    "        result_enj = list(enj_perm.aggregate(pipeline))\n",
    "\n",
    "        if (len(result_c2g)>0):\n",
    "            tot += result_c2g[0][\"tot\"]\n",
    "\n",
    "        if (len(result_enj)>0):\n",
    "            tot += result_enj[0][\"tot\"]\n",
    "\n",
    "        OD_C[orig-1,dest-1] = tot"
   ]
  },
  {
   "cell_type": "code",
   "execution_count": null,
   "id": "ad2c274c",
   "metadata": {},
   "outputs": [],
   "source": [
    "plt.rc('axes', labelsize=32)\n",
    "plt.rc('ytick', labelsize=16)\n",
    "plt.rc('xtick', labelsize=16)\n",
    "plt.rc('legend', fontsize=28)\n",
    "plt.rc('figure', titlesize=18)\n",
    "\n",
    "plt.figure(figsize=(22,16))\n",
    "ax = sns.heatmap(OD_C, linewidth=0.5, annot=True, fmt='g', annot_kws={\"size\": 17}, cmap='Greens')\n",
    "plt.xlim([0,23])\n",
    "plt.xticks(np.arange(0.5, 23.5, 1), labels=list(zones.values()), rotation=90, ha='center')\n",
    "plt.yticks(np.arange(0.5, 23.5, 1), labels=list(zones.values()), rotation=0)\n",
    "ax.xaxis.set_ticks_position('top')\n",
    "plt.title('Destination (Car-Sharing)', size=32, y=1.24)\n",
    "plt.ylabel('Origin (Car-Sharing)', labelpad=30)\n",
    "plt.tight_layout()\n",
    "plt.savefig('OD_CarSharing.png', dpi=300)\n",
    "plt.show()"
   ]
  },
  {
   "cell_type": "markdown",
   "id": "9776a9b1",
   "metadata": {},
   "source": [
    "## IMQ"
   ]
  },
  {
   "cell_type": "code",
   "execution_count": null,
   "id": "b952c65e",
   "metadata": {},
   "outputs": [],
   "source": [
    "sp_to = pd.read_csv('IMQData/spostamentiTorino.csv')\n",
    "\n",
    "sp_to_all = sp_to.copy()\n",
    "\n",
    "sp_to_all['COD_ZONA_PAR'] = pd.to_numeric(sp_to_all['COD_ZONA_PAR'].str.replace('Q',''))\n",
    "sp_to_all['COD_ZONA_ARR'] = pd.to_numeric(sp_to_all['COD_ZONA_ARR'].str.replace('Q',''))\n",
    "sp_to_all['PAR_TO_ARR'] = list(zip(sp_to_all['COD_ZONA_PAR'], sp_to_all['COD_ZONA_ARR']))\n",
    "\n",
    "OD_I = np.zeros([len(zones), len(zones)])\n",
    "for i in range(len(sp_to_all['PAR_TO_ARR'].value_counts())):\n",
    "    orig, dest = sp_to_all['PAR_TO_ARR'].value_counts().keys()[i]\n",
    "    OD_I[orig-1,dest-1] = int(sp_to_all['PAR_TO_ARR'].value_counts()[i])"
   ]
  },
  {
   "cell_type": "code",
   "execution_count": null,
   "id": "ccb03f0c",
   "metadata": {},
   "outputs": [],
   "source": [
    "plt.rc('axes', labelsize=32)\n",
    "plt.rc('ytick', labelsize=16)\n",
    "plt.rc('xtick', labelsize=16)\n",
    "plt.rc('legend', fontsize=28)\n",
    "plt.rc('figure', titlesize=18)\n",
    "\n",
    "plt.figure(figsize=(22,16))\n",
    "ax = sns.heatmap(OD_I, linewidth=0.5, annot=True, fmt='g', annot_kws={\"size\": 17}, cmap='Greens')\n",
    "plt.xlim([0,23])\n",
    "plt.xticks(np.arange(0.5, 23.5, 1), labels=list(zones.values()), rotation=90, ha='center')\n",
    "plt.yticks(np.arange(0.5, 23.5, 1), labels=list(zones.values()), rotation=0)\n",
    "ax.xaxis.set_ticks_position('top')\n",
    "plt.title('Destination (IMQ)', size=32, y=1.24)\n",
    "plt.ylabel('Origin (IMQ)', labelpad=30)\n",
    "plt.tight_layout()\n",
    "plt.savefig('OD_IMQ.png', dpi=300)\n",
    "plt.show()"
   ]
  },
  {
   "cell_type": "markdown",
   "id": "1d34aff9",
   "metadata": {},
   "source": [
    "# Daily and Hourly OD Matrices of Car-Sharing Rentals"
   ]
  },
  {
   "cell_type": "markdown",
   "id": "83a549c4",
   "metadata": {},
   "source": [
    "### Hourly"
   ]
  },
  {
   "cell_type": "code",
   "execution_count": null,
   "id": "03f00255",
   "metadata": {},
   "outputs": [],
   "source": [
    "startDay = 2\n",
    "endDay = 7\n",
    "\n",
    "OD_carsharing = []\n",
    "\n",
    "cases = [(0, 4), (5, 8), (9, 13), (14, 18), (19, 23)]\n",
    "\n",
    "for case in range(len(cases)):\n",
    "    OD_carsharing.append(np.zeros([len(zones), len(zones)]))\n",
    "    print(cases[case])\n",
    "    startHour, endHour = cases[case]\n",
    "    for orig in range(23):\n",
    "        for dest in range(23):\n",
    "            print(f'Instance {orig}-{dest}')\n",
    "\n",
    "            tot = 0\n",
    "\n",
    "            orig_zone = zones_data['features'][orig][\"geometry\"][\"coordinates\"]\n",
    "            dest_zone = zones_data['features'][dest][\"geometry\"][\"coordinates\"]\n",
    "\n",
    "            pipeline = get_OD_data(orig_zone, dest_zone, startHour, endHour, startDay, endDay)\n",
    "            result_c2g = list(c2g_perm.aggregate(pipeline))\n",
    "            result_enj = list(enj_perm.aggregate(pipeline))\n",
    "\n",
    "            if (len(result_c2g)>0):\n",
    "                tot += result_c2g[0][\"tot\"]\n",
    "\n",
    "            if (len(result_enj)>0):\n",
    "                tot += result_enj[0][\"tot\"]\n",
    "\n",
    "            OD_carsharing[case][orig-1,dest-1] = tot\n",
    "            \n",
    "for case in range(len(cases)): \n",
    "    np.savetxt(f'Results/SingleFilter/Carsharing/Hourly/{case}_Hour_{cases[case][0]}_{cases[case][1]}.txt',\n",
    "               OD_carsharing[case], fmt='%d')\n",
    "    np.savetxt(f'Results/TwoFilters/Carsharing/Hourly/{case}_Hour_{cases[case][0]}_{cases[case][1]}.txt',\n",
    "               OD_carsharing[case], fmt='%d')"
   ]
  },
  {
   "cell_type": "markdown",
   "id": "b28f3d1b",
   "metadata": {},
   "source": [
    "# Daily"
   ]
  },
  {
   "cell_type": "code",
   "execution_count": null,
   "id": "31259b2f",
   "metadata": {},
   "outputs": [],
   "source": [
    "startHour = 0\n",
    "endHour = 23\n",
    "\n",
    "OD_carsharing = []\n",
    "\n",
    "cases = [(2, 3), (3, 4), (4, 5), (5, 6), (6, 7)]\n",
    "\n",
    "for case in range(len(cases)):\n",
    "    OD_carsharing.append(np.zeros([len(zones), len(zones)]))\n",
    "    print(cases[case])\n",
    "    startDay, endDay = cases[case]\n",
    "    for orig in range(23):\n",
    "        for dest in range(23):\n",
    "            print(f'Instance {orig}-{dest}')\n",
    "\n",
    "            tot = 0\n",
    "\n",
    "            orig_zone = zones_data['features'][orig][\"geometry\"][\"coordinates\"]\n",
    "            dest_zone = zones_data['features'][dest][\"geometry\"][\"coordinates\"]\n",
    "\n",
    "            pipeline = get_OD_data(orig_zone, dest_zone, startHour, endHour, startDay, endDay)\n",
    "            result_c2g = list(c2g_perm.aggregate(pipeline))\n",
    "            result_enj = list(enj_perm.aggregate(pipeline))\n",
    "\n",
    "            if (len(result_c2g)>0):\n",
    "                tot += result_c2g[0][\"tot\"]\n",
    "\n",
    "            if (len(result_enj)>0):\n",
    "                tot += result_enj[0][\"tot\"]\n",
    "\n",
    "            OD_carsharing[case][orig-1,dest-1] = tot\n",
    "            \n",
    "for case in range(len(cases)): \n",
    "    np.savetxt(f'Results/SingleFilter/Carsharing/Daily/{case}_Day_{cases[case][0]}_{cases[case][1]}.txt',\n",
    "               OD_carsharing[case], fmt='%d')\n",
    "    np.savetxt(f'Results/TwoFilters/Carsharing/Daily/{case}_Day_{cases[case][0]}_{cases[case][1]}.txt',\n",
    "               OD_carsharing[case], fmt='%d')"
   ]
  },
  {
   "cell_type": "markdown",
   "id": "c8f005a7",
   "metadata": {},
   "source": [
    "# Single Filter"
   ]
  },
  {
   "cell_type": "code",
   "execution_count": null,
   "id": "44781776",
   "metadata": {},
   "outputs": [],
   "source": [
    "sp_to = pd.read_csv('IMQData/spostamentiTorino.csv')\n",
    "sp_to_all = sp_to[['SESSO', 'FASCIA_ETA', 'SCOPO', 'COD_ZONA_PAR', 'COD_ZONA_ARR']]\n",
    "\n",
    "ct = 0\n",
    "\n",
    "for column in ['SESSO', 'FASCIA_ETA', 'SCOPO']:\n",
    "    \n",
    "    for val in list(sorted(sp_to_all[column].unique())):\n",
    "    \n",
    "        sp_to_all = sp_to[['SESSO', 'FASCIA_ETA', 'SCOPO', 'COD_ZONA_PAR', 'COD_ZONA_ARR']]\n",
    "\n",
    "        sp_to_all = sp_to_all[sp_to_all[column]==val]\n",
    "\n",
    "        sp_to_all['COD_ZONA_PAR'] = pd.to_numeric(sp_to_all['COD_ZONA_PAR'].str.replace('Q',''))\n",
    "        sp_to_all['COD_ZONA_ARR'] = pd.to_numeric(sp_to_all['COD_ZONA_ARR'].str.replace('Q',''))\n",
    "        sp_to_all['PAR_TO_ARR'] = list(zip(sp_to_all['COD_ZONA_PAR'], sp_to_all['COD_ZONA_ARR']))\n",
    "\n",
    "        OD_imq = np.zeros([len(zones), len(zones)])\n",
    "        for i in range(len(sp_to_all['PAR_TO_ARR'].value_counts())):\n",
    "            orig, dest = sp_to_all['PAR_TO_ARR'].value_counts().keys()[i]\n",
    "            OD_imq[orig-1,dest-1] = int(sp_to_all['PAR_TO_ARR'].value_counts()[i])\n",
    "        \n",
    "        if ct/10>=1:\n",
    "            add = ''\n",
    "        else:\n",
    "            add = '0'\n",
    "            \n",
    "        OD_imq = np.savetxt(f'Results/SingleFilter/IMQ/{add}{ct}_IMQ_{column}_{val}.txt', OD_imq, fmt='%d')\n",
    "        ct += 1"
   ]
  },
  {
   "cell_type": "code",
   "execution_count": null,
   "id": "e5ef0ffe",
   "metadata": {},
   "outputs": [],
   "source": [
    "all_imq_matrixes = []\n",
    "all_mdb_matrixes = []\n",
    "\n",
    "names = []\n",
    "for dr in os.listdir(r'Results/SingleFilter/IMQ'):\n",
    "    names.append(dr[:-4])\n",
    "    all_imq_matrixes.append(np.loadtxt(f\"Results/SingleFilter/IMQ/{dr}\", dtype=int))\n",
    "for dr in os.listdir(r'Results/SingleFilter/Carsharing/Hourly'):\n",
    "    names.append(dr[:-4])\n",
    "    all_mdb_matrixes.append(np.loadtxt(f\"Results/SingleFilter/Carsharing/Hourly/{dr}\", dtype=int))\n",
    "for dr in os.listdir(r'Results/SingleFilter/Carsharing/Daily'):\n",
    "    names.append(dr[:-4])\n",
    "    all_mdb_matrixes.append(np.loadtxt(f\"Results/SingleFilter/Carsharing/Daily/{dr}\", dtype=int))"
   ]
  },
  {
   "cell_type": "code",
   "execution_count": null,
   "id": "ea846142",
   "metadata": {},
   "outputs": [],
   "source": [
    "plt.rc('axes', labelsize=26)\n",
    "plt.rc('ytick', labelsize=20)\n",
    "plt.rc('xtick', labelsize=20)\n",
    "plt.rc('legend', fontsize=20)\n",
    "plt.rc('figure', titlesize=18)\n",
    "plt.rcParams.update({'axes.titlesize': 'xx-large'})\n",
    "\n",
    "    \n",
    "euclidean_results = np.zeros([len(all_mdb_matrixes), len(all_imq_matrixes)])\n",
    "\n",
    "for OD1 in range(len(all_mdb_matrixes)):\n",
    "    for OD2 in range(len(all_imq_matrixes)):\n",
    "        euclidean_results[OD1][OD2] = np.around(np.linalg.norm(normalize(all_imq_matrixes[OD2])-normalize(all_mdb_matrixes[OD1])), decimals=2)\n",
    "\n",
    "names = ['(1)','(2)','(3)','(4)','(5)','(6)','(7)','(8)','(9)',\n",
    "         '(10)','(11)','(12)','(13)','(14)','(15)','(16)','(17)',\n",
    "         '0AM-5AM','5AM-9AM','9AM-2PM','2PM-7PM','7PM-12PM',\n",
    "         'Monday', 'Tuesday', 'Wednesday', 'Thursday', 'Friday']\n",
    "\n",
    "plt.figure(figsize=(22,8))\n",
    "ax = sns.heatmap(euclidean_results, linewidth=0.8, annot=True,\n",
    "                 fmt='g', annot_kws={\"size\": 20}, cmap='Oranges_r', vmin=0, vmax=4.5)\n",
    "plt.xlim([0,len(names)-len(all_mdb_matrixes)])\n",
    "plt.xticks(np.arange(0.5, (len(names)-len(all_mdb_matrixes))+0.5, 1),\n",
    "           labels=names[:-len(all_mdb_matrixes)], rotation=90, ha='center')\n",
    "plt.yticks(np.arange(0.5, len(all_mdb_matrixes)+0.5, 1),\n",
    "           labels=names[-len(all_mdb_matrixes):], rotation=0)\n",
    "ax.xaxis.set_ticks_position('top')\n",
    "plt.ylabel('Time Filter (Car-Sharing)', labelpad=30)\n",
    "#plt.xlabel('Features')\n",
    "plt.title('Interview Filter (IMQ) - Single Filter (Gender, Age, Reason)', size=26, y=1.15)\n",
    "plt.tight_layout()\n",
    "plt.savefig('Single_Filter(Gender,Age,Reason)', dpi=300)\n",
    "plt.show()"
   ]
  },
  {
   "cell_type": "code",
   "execution_count": null,
   "id": "1c2f2e12",
   "metadata": {},
   "outputs": [],
   "source": [
    "euclidean_results"
   ]
  },
  {
   "cell_type": "markdown",
   "id": "a7d9f844",
   "metadata": {},
   "source": [
    "# Two Filters"
   ]
  },
  {
   "cell_type": "code",
   "execution_count": null,
   "id": "d02e8b98",
   "metadata": {},
   "outputs": [],
   "source": [
    "sp_to_all = sp_to[['SESSO', 'FASCIA_ETA', 'SCOPO', 'COD_ZONA_PAR', 'COD_ZONA_ARR']]\n",
    "\n",
    "ct = 0\n",
    "\n",
    "filters = [('SESSO', 'FASCIA_ETA'), ('SESSO', 'SCOPO'), ('FASCIA_ETA', 'SCOPO')]\n",
    "\n",
    "for fil in filters:\n",
    "    f1, f2 = fil[0], fil[1]\n",
    "    sp_to_all = sp_to[['SESSO', 'FASCIA_ETA', 'SCOPO', 'COD_ZONA_PAR', 'COD_ZONA_ARR']]\n",
    "    for val1 in list(sorted(sp_to_all[f1].unique())):\n",
    "        for val2 in list(sorted(sp_to_all[f2].unique())):\n",
    "         \n",
    "            sp_to_all = sp_to_all[sp_to_all[f1]==val1]\n",
    "            sp_to_all = sp_to_all[sp_to_all[f2]==val2]\n",
    "\n",
    "            sp_to_all['COD_ZONA_PAR'] = pd.to_numeric(sp_to_all['COD_ZONA_PAR'].str.replace('Q',''))\n",
    "            sp_to_all['COD_ZONA_ARR'] = pd.to_numeric(sp_to_all['COD_ZONA_ARR'].str.replace('Q',''))\n",
    "            sp_to_all['PAR_TO_ARR'] = list(zip(sp_to_all['COD_ZONA_PAR'], sp_to_all['COD_ZONA_ARR']))\n",
    "\n",
    "            OD_imq = np.zeros([len(zones), len(zones)])\n",
    "            for i in range(len(sp_to_all['PAR_TO_ARR'].value_counts())):\n",
    "                orig, dest = sp_to_all['PAR_TO_ARR'].value_counts().keys()[i]\n",
    "                OD_imq[orig-1,dest-1] = int(sp_to_all['PAR_TO_ARR'].value_counts()[i])\n",
    "\n",
    "            if ct/10>=1:\n",
    "                add = ''\n",
    "            else:\n",
    "                add = '0'\n",
    "\n",
    "            OD_imq = np.savetxt(f'Results/TwoFilters/IMQ/{add}{ct}_IMQ_{f1}{val1}_{f2}{val2}.txt', OD_imq, fmt='%d')\n",
    "            ct += 1\n",
    "            sp_to_all = sp_to[['SESSO', 'FASCIA_ETA', 'SCOPO', 'COD_ZONA_PAR', 'COD_ZONA_ARR']]"
   ]
  },
  {
   "cell_type": "markdown",
   "id": "6024074d",
   "metadata": {},
   "source": [
    "### SE"
   ]
  },
  {
   "cell_type": "code",
   "execution_count": null,
   "id": "abdcaeb0",
   "metadata": {},
   "outputs": [],
   "source": [
    "all_imq_matrixesSeSc = []\n",
    "all_imq_matrixesSeFa = []\n",
    "all_mdb_matrixes = []\n",
    "\n",
    "names_cs = []\n",
    "names_SeSc = []\n",
    "names_SeFa = []\n",
    "\n",
    "for dr in os.listdir(r'Results/TwoFilters/IMQ/SESSO_SCOPO'):\n",
    "    names_SeSc.append(dr[:-4])\n",
    "    all_imq_matrixesSeSc.append(np.loadtxt(f\"Results/TwoFilters/IMQ/SESSO_SCOPO/{dr}\", dtype=int))\n",
    "    \n",
    "for dr in os.listdir(r'Results/TwoFilters/IMQ/SESSO_FASCIA_ETA'):\n",
    "    names_SeFa.append(dr[:-4])\n",
    "    all_imq_matrixesSeFa.append(np.loadtxt(f\"Results/TwoFilters/IMQ/SESSO_FASCIA_ETA/{dr}\", dtype=int))\n",
    "    \n",
    "for dr in os.listdir(r'Results/TwoFilters/Carsharing/Hourly'):\n",
    "    names_cs.append(dr[:-4])\n",
    "    all_mdb_matrixes.append(np.loadtxt(f\"Results/TwoFilters/Carsharing/Hourly/{dr}\", dtype=int))\n",
    "    \n",
    "for dr in os.listdir(r'Results/TwoFilters/Carsharing/Daily'):\n",
    "    names_cs.append(dr[:-4])\n",
    "    all_mdb_matrixes.append(np.loadtxt(f\"Results/TwoFilters/Carsharing/Daily/{dr}\", dtype=int))"
   ]
  },
  {
   "cell_type": "code",
   "execution_count": null,
   "id": "8d4d4158",
   "metadata": {},
   "outputs": [],
   "source": [
    "names_SeSc = ['(1),(7)','(1),(8)','(1),(9)','(1),(10)','(1),(11)',\n",
    " '(1),(12)','(1),(13)','(1),(14)','(1),(15)','(1),(16)','(1),(17)',\n",
    " '(2),(7)','(2),(8)','(2),(9)','(2),(10)','(2),(11)','(2),(12)','(2),(13)',\n",
    " '(2),(14)','(2),(15)','(2),(16)','(2),(17)']\n",
    "\n",
    "names_SeFa = ['(1),(3)','(1),(4)','(1),(5)','(1),(6)',\n",
    " '(2),(3)','(2),(4)','(2),(5)','(2),(6)']\n",
    "\n",
    "names_cs = ['0AM-5AM','5AM-9AM','9AM-2PM','2PM-7PM','7PM-12PM',\n",
    "           'Monday', 'Tuesday', 'Wednesday', 'Thursday', 'Friday']"
   ]
  },
  {
   "cell_type": "code",
   "execution_count": null,
   "id": "e7f361b5",
   "metadata": {},
   "outputs": [],
   "source": [
    "euclidean_results_SeSc = np.zeros([len(all_mdb_matrixes), len(all_imq_matrixesSeSc)])\n",
    "euclidean_results_SeFa = np.zeros([len(all_mdb_matrixes), len(all_imq_matrixesSeFa)])\n",
    "\n",
    "for OD1 in range(len(all_mdb_matrixes)):\n",
    "    for OD2 in range(len(all_imq_matrixesSeSc)):\n",
    "        euclidean_results_SeSc[OD1][OD2] = np.around(np.linalg.norm(normalize(all_imq_matrixesSeSc[OD2])-normalize(all_mdb_matrixes[OD1])), decimals=2)\n",
    "\n",
    "    for OD2 in range(len(all_imq_matrixesSeFa)):\n",
    "        euclidean_results_SeFa[OD1][OD2] = np.around(np.linalg.norm(normalize(all_imq_matrixesSeFa[OD2])-normalize(all_mdb_matrixes[OD1])), decimals=2)"
   ]
  },
  {
   "cell_type": "code",
   "execution_count": null,
   "id": "765fe64c",
   "metadata": {},
   "outputs": [],
   "source": [
    "plt.rc('axes', labelsize=26)\n",
    "plt.rc('ytick', labelsize=20)\n",
    "plt.rc('xtick', labelsize=20)\n",
    "plt.rc('legend', fontsize=20)\n",
    "plt.rc('figure', titlesize=18)\n",
    "plt.rcParams.update({'axes.titlesize': 'xx-large'})\n",
    "\n",
    "\n",
    "plt.figure(figsize=(22,10))\n",
    "ax = sns.heatmap(euclidean_results_SeSc, linewidth=0.8, annot=True, fmt='g', annot_kws={\"size\": 20}, cmap='Oranges_r', vmin=0, vmax=4.5)\n",
    "plt.xlim([0,len(names_SeSc)])\n",
    "plt.xticks(np.arange(0.5, len(names_SeSc)+0.5, 1), labels=names_SeSc, rotation=90, ha='center')\n",
    "plt.yticks(np.arange(0.5, len(all_mdb_matrixes)+0.5, 1), labels=names_cs, rotation=0)\n",
    "ax.xaxis.set_ticks_position('top')\n",
    "plt.ylabel('Time Filter (Car-Sharing)', labelpad=30)\n",
    "#plt.xlabel('Features')\n",
    "plt.title('Interview Filter (IMQ) - Two Filters (Gender, Reason)', size=26, y=1.25)\n",
    "plt.tight_layout()\n",
    "plt.savefig('Two_Filters_(Gender,Reason)', dpi=300)\n",
    "plt.show()"
   ]
  },
  {
   "cell_type": "code",
   "execution_count": null,
   "id": "22dce895",
   "metadata": {},
   "outputs": [],
   "source": [
    "plt.rc('axes', labelsize=26)\n",
    "plt.rc('ytick', labelsize=20)\n",
    "plt.rc('xtick', labelsize=20)\n",
    "plt.rc('legend', fontsize=20)\n",
    "plt.rc('figure', titlesize=18)\n",
    "plt.rcParams.update({'axes.titlesize': 'xx-large'})\n",
    "\n",
    "\n",
    "plt.figure(figsize=(22,8))\n",
    "ax = sns.heatmap(euclidean_results_SeFa, linewidth=0.8, annot=True, fmt='g', annot_kws={\"size\": 20}, cmap='Oranges_r', vmin=0, vmax=4.5)\n",
    "plt.xlim([0,len(names_SeFa)])\n",
    "plt.xticks(np.arange(0.5, len(names_SeFa)+0.5, 1), labels=names_SeFa, rotation=90, ha='center')\n",
    "plt.yticks(np.arange(0.5, len(all_mdb_matrixes)+0.5, 1), labels=names_cs, rotation=0)\n",
    "ax.xaxis.set_ticks_position('top')\n",
    "plt.ylabel('Time Filter (Car-Sharing)', labelpad=30)\n",
    "#plt.xlabel('Features')\n",
    "plt.title('Interview Filter (IMQ) - Two Filters (Gender, Age)', size=26, y=1.25)\n",
    "plt.tight_layout()\n",
    "plt.savefig('Two_Filters_(Gender,Age)', dpi=300)\n",
    "plt.show()"
   ]
  }
 ],
 "metadata": {
  "kernelspec": {
   "display_name": "Python 3 (ipykernel)",
   "language": "python",
   "name": "python3"
  },
  "language_info": {
   "codemirror_mode": {
    "name": "ipython",
    "version": 3
   },
   "file_extension": ".py",
   "mimetype": "text/x-python",
   "name": "python",
   "nbconvert_exporter": "python",
   "pygments_lexer": "ipython3",
   "version": "3.9.15"
  }
 },
 "nbformat": 4,
 "nbformat_minor": 5
}
